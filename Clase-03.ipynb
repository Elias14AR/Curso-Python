{
 "cells": [
  {
   "attachments": {},
   "cell_type": "markdown",
   "metadata": {},
   "source": [
    "Ciclo While\n"
   ]
  },
  {
   "cell_type": "code",
   "execution_count": 3,
   "metadata": {},
   "outputs": [
    {
     "name": "stdout",
     "output_type": "stream",
     "text": [
      "se cumple la condicion\n",
      "se cumple la condicion\n",
      "se cumple la condicion\n",
      "se cumple la condicion\n",
      "se cumple la condicion\n",
      "se cumple la condicion\n"
     ]
    }
   ],
   "source": [
    "cont = 0\n",
    "while cont <= 5:\n",
    "    print (\"se cumple la condicion\")\n",
    "    cont = cont + 1"
   ]
  },
  {
   "cell_type": "code",
   "execution_count": null,
   "metadata": {},
   "outputs": [],
   "source": [
    "Auth = 0\n",
    "while Auth==0:\n",
    "    user = input (\"¿Cual es tu usuario?\")\n",
    "    password = input (\"¿Cual es tu contraseña?\")\n",
    "\n",
    "    if len(password)<6:\n",
    "        print (\"Necesitas crear una contraseña mayor a 6 digitos\")\n",
    "    else:\n",
    "        print (\"usuario registrado\")\n",
    "        auth = 1"
   ]
  },
  {
   "attachments": {},
   "cell_type": "markdown",
   "metadata": {},
   "source": [
    "Ciclo for"
   ]
  },
  {
   "attachments": {},
   "cell_type": "markdown",
   "metadata": {},
   "source": [
    "For de rango\n"
   ]
  },
  {
   "cell_type": "code",
   "execution_count": 13,
   "metadata": {},
   "outputs": [
    {
     "name": "stdout",
     "output_type": "stream",
     "text": [
      "0\n",
      "1\n",
      "2\n",
      "3\n",
      "4\n",
      "5\n",
      "6\n",
      "7\n",
      "8\n",
      "9\n"
     ]
    }
   ],
   "source": [
    "for i in range (10):\n",
    "    print (i)"
   ]
  },
  {
   "cell_type": "code",
   "execution_count": 12,
   "metadata": {},
   "outputs": [
    {
     "name": "stdout",
     "output_type": "stream",
     "text": [
      "5\n",
      "6\n",
      "7\n",
      "8\n",
      "9\n",
      "10\n",
      "11\n",
      "12\n",
      "13\n",
      "14\n"
     ]
    }
   ],
   "source": [
    "for i in range (5,15):\n",
    "    print (i)"
   ]
  },
  {
   "cell_type": "code",
   "execution_count": 11,
   "metadata": {},
   "outputs": [
    {
     "name": "stdout",
     "output_type": "stream",
     "text": [
      "5\n",
      "7\n",
      "9\n",
      "11\n",
      "13\n",
      "15\n",
      "17\n",
      "19\n",
      "21\n",
      "23\n"
     ]
    }
   ],
   "source": [
    "for i in range (5,25,2):\n",
    "    print (i)"
   ]
  },
  {
   "cell_type": "code",
   "execution_count": 10,
   "metadata": {},
   "outputs": [
    {
     "name": "stdout",
     "output_type": "stream",
     "text": [
      "0\n",
      "1\n"
     ]
    }
   ],
   "source": [
    "n = int (input (\"Cuantas veces se repetira ?\"))\n",
    "\n",
    "for i in range (n):\n",
    "    print (i)"
   ]
  },
  {
   "attachments": {},
   "cell_type": "markdown",
   "metadata": {},
   "source": [
    "For y listas"
   ]
  },
  {
   "cell_type": "code",
   "execution_count": 14,
   "metadata": {},
   "outputs": [
    {
     "name": "stdout",
     "output_type": "stream",
     "text": [
      "[0]\n",
      "[0, 1]\n",
      "[0, 1, 4]\n",
      "[0, 1, 4, 9]\n",
      "[0, 1, 4, 9, 16]\n",
      "[0, 1, 4, 9, 16, 25]\n",
      "[0, 1, 4, 9, 16, 25, 36]\n",
      "[0, 1, 4, 9, 16, 25, 36, 49]\n",
      "[0, 1, 4, 9, 16, 25, 36, 49, 64]\n",
      "[0, 1, 4, 9, 16, 25, 36, 49, 64, 81]\n"
     ]
    }
   ],
   "source": [
    "numeros_cuadrado = []\n",
    "for i in range (10):\n",
    "    numeros_cuadrado.append (i**2)\n",
    "    print (numeros_cuadrado)\n"
   ]
  },
  {
   "cell_type": "code",
   "execution_count": 16,
   "metadata": {},
   "outputs": [
    {
     "name": "stdout",
     "output_type": "stream",
     "text": [
      "Manzana\n",
      "Platano\n",
      "Pera\n",
      "Sandia\n"
     ]
    }
   ],
   "source": [
    "mis_frutas = [\"Manzana\",\"Platano\",\"Pera\",\"Sandia\"]\n",
    "for i in range (4):\n",
    "    print (mis_frutas[i])\n"
   ]
  },
  {
   "cell_type": "code",
   "execution_count": 17,
   "metadata": {},
   "outputs": [
    {
     "name": "stdout",
     "output_type": "stream",
     "text": [
      "Manzana\n",
      "Platano\n",
      "Pera\n",
      "Sandia\n"
     ]
    }
   ],
   "source": [
    "mis_frutas = [\"Manzana\",\"Platano\",\"Pera\",\"Sandia\"]\n",
    "for i in range (len(mis_frutas)):\n",
    "    print (mis_frutas[i])\n"
   ]
  },
  {
   "attachments": {},
   "cell_type": "markdown",
   "metadata": {},
   "source": [
    "for de elementos"
   ]
  },
  {
   "cell_type": "code",
   "execution_count": 18,
   "metadata": {},
   "outputs": [
    {
     "name": "stdout",
     "output_type": "stream",
     "text": [
      "['Manzana', 'Platano', 'Pera', 'Sandia']\n",
      "['Manzana', 'Platano', 'Pera', 'Sandia']\n",
      "['Manzana', 'Platano', 'Pera', 'Sandia']\n",
      "['Manzana', 'Platano', 'Pera', 'Sandia']\n"
     ]
    }
   ],
   "source": [
    "for element in mis_frutas:\n",
    "    print (mis_frutas)\n"
   ]
  },
  {
   "attachments": {},
   "cell_type": "markdown",
   "metadata": {},
   "source": [
    "Actividad 6"
   ]
  },
  {
   "cell_type": "code",
   "execution_count": 30,
   "metadata": {},
   "outputs": [
    {
     "name": "stdout",
     "output_type": "stream",
     "text": [
      "[7, 7, 7, 7, 7, 7]\n",
      "7.0\n",
      "Estas aprobado\n"
     ]
    }
   ],
   "source": [
    "calificaciones = int (input (\"Cuantas calificaciones quieres agregar\"))\n",
    "calif = []\n",
    "for i in range (calificaciones):\n",
    "   calif.append (int (input (\"Digite aqui la calificacion {calif}\")))\n",
    "print (calif)\n",
    "promedio = sum(calif)/len(calif)\n",
    "print (promedio)\n",
    "\n",
    "if promedio >5.9:\n",
    "   print (\"Estas aprobado\")\n",
    "else:\n",
    "   print (\"Reprobado\")"
   ]
  },
  {
   "attachments": {},
   "cell_type": "markdown",
   "metadata": {},
   "source": [
    "Manejo de errores"
   ]
  }
 ],
 "metadata": {
  "kernelspec": {
   "display_name": "Python 3.10.8 64-bit (microsoft store)",
   "language": "python",
   "name": "python3"
  },
  "language_info": {
   "codemirror_mode": {
    "name": "ipython",
    "version": 3
   },
   "file_extension": ".py",
   "mimetype": "text/x-python",
   "name": "python",
   "nbconvert_exporter": "python",
   "pygments_lexer": "ipython3",
   "version": "3.10.9 (tags/v3.10.9:1dd9be6, Dec  6 2022, 20:01:21) [MSC v.1934 64 bit (AMD64)]"
  },
  "orig_nbformat": 4,
  "vscode": {
   "interpreter": {
    "hash": "82a7b4db8cba9541a78d3151c527c3258eb15f7739d4d8789d60593998f2759f"
   }
  }
 },
 "nbformat": 4,
 "nbformat_minor": 2
}
