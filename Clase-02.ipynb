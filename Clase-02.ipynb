{
 "cells": [
  {
   "cell_type": "code",
   "execution_count": 1,
   "metadata": {},
   "outputs": [
    {
     "name": "stdout",
     "output_type": "stream",
     "text": [
      "Hola\n"
     ]
    }
   ],
   "source": [
    "print (\"Hola\")"
   ]
  },
  {
   "cell_type": "code",
   "execution_count": 6,
   "metadata": {},
   "outputs": [
    {
     "name": "stdout",
     "output_type": "stream",
     "text": [
      "segundo es mayor\n"
     ]
    }
   ],
   "source": [
    "\n",
    "v1 = int(input ('dame un valor')) \n",
    "v2 = int(input ('dame un valor'))\n",
    "\n",
    "if v1>v2:\n",
    "    print (f\"es mayor\" );\n",
    "\n",
    "elif v2>v1:\n",
    "    print (f\"segundo es mayor\")\n",
    "else :\n",
    "    print (f'{v2} \"es mayor\" ')"
   ]
  },
  {
   "cell_type": "markdown",
   "metadata": {},
   "source": [
    "Listas"
   ]
  },
  {
   "cell_type": "code",
   "execution_count": 12,
   "metadata": {},
   "outputs": [
    {
     "name": "stdout",
     "output_type": "stream",
     "text": [
      "['mandarina', 'pera', 'manzana']\n",
      "['mandarina', 'pera', 'manzana', 'naranja']\n"
     ]
    }
   ],
   "source": [
    "mis_frutas=[\"mandarina\",\"pera\",\"manzana\"]\n",
    "print (mis_frutas)\n",
    "\n",
    "mis_frutas.append (\"naranja\")\n",
    "print(mis_frutas)"
   ]
  },
  {
   "cell_type": "markdown",
   "metadata": {},
   "source": [
    "Slice a texto"
   ]
  },
  {
   "cell_type": "code",
   "execution_count": 20,
   "metadata": {},
   "outputs": [
    {
     "name": "stdout",
     "output_type": "stream",
     "text": [
      "['mandarina', 'pera']\n",
      "['manzana', 'naranja']\n",
      "El\n",
      "castillo\n",
      "vagabundo\n"
     ]
    }
   ],
   "source": [
    "print (mis_frutas[0:2])\n",
    "print (mis_frutas[2:4])\n",
    "\n",
    "palabra = \"El castillo vagabundo\"\n",
    "\n",
    "print (palabra [0:2])\n",
    "\n",
    "print (palabra [3:11])\n",
    "\n",
    "print (palabra [12:21])\n",
    "\n",
    "\n"
   ]
  },
  {
   "cell_type": "code",
   "execution_count": 22,
   "metadata": {},
   "outputs": [
    {
     "name": "stdout",
     "output_type": "stream",
     "text": [
      "[2, 4, 4, 15, 16, 20]\n",
      "[20, 16, 15, 4, 4, 2]\n",
      "[20, 16, 15, 4, 4, 2]\n"
     ]
    },
    {
     "data": {
      "text/plain": [
       "61"
      ]
     },
     "execution_count": 22,
     "metadata": {},
     "output_type": "execute_result"
    }
   ],
   "source": [
    "mis_numeros = [2, 15, 16, 4, 4, 20]\n",
    "mis_numeros.sort()\n",
    "print(mis_numeros)\n",
    "mis_numeros.sort(reverse=True)\n",
    "print(mis_numeros)\n",
    "mis_numeros.count(5)\n",
    "print(mis_numeros)\n",
    "\n",
    "sum(mis_numeros)"
   ]
  },
  {
   "cell_type": "markdown",
   "metadata": {},
   "source": [
    "$$\\frac{1}{2}\\sum{i}^{n} x_i$$"
   ]
  },
  {
   "cell_type": "code",
   "execution_count": 24,
   "metadata": {},
   "outputs": [
    {
     "name": "stdout",
     "output_type": "stream",
     "text": [
      "6.1\n",
      "10.166666666666666\n"
     ]
    },
    {
     "data": {
      "text/plain": [
       "6"
      ]
     },
     "execution_count": 24,
     "metadata": {},
     "output_type": "execute_result"
    }
   ],
   "source": [
    "print((sum(mis_numeros))/10)\n",
    "promedio = (sum(mis_numeros))/len(mis_numeros)\n",
    "print(promedio)\n",
    "\n",
    "len (mis_numeros)\n"
   ]
  },
  {
   "cell_type": "code",
   "execution_count": 25,
   "metadata": {},
   "outputs": [
    {
     "name": "stdout",
     "output_type": "stream",
     "text": [
      "2\n",
      "20\n"
     ]
    }
   ],
   "source": [
    "print(min(mis_numeros))\n",
    "print(max(mis_numeros))"
   ]
  }
 ],
 "metadata": {
  "kernelspec": {
   "display_name": "Python 3.10.8 64-bit (microsoft store)",
   "language": "python",
   "name": "python3"
  },
  "language_info": {
   "codemirror_mode": {
    "name": "ipython",
    "version": 3
   },
   "file_extension": ".py",
   "mimetype": "text/x-python",
   "name": "python",
   "nbconvert_exporter": "python",
   "pygments_lexer": "ipython3",
   "version": "3.10.8"
  },
  "orig_nbformat": 4,
  "vscode": {
   "interpreter": {
    "hash": "82a7b4db8cba9541a78d3151c527c3258eb15f7739d4d8789d60593998f2759f"
   }
  }
 },
 "nbformat": 4,
 "nbformat_minor": 2
}
