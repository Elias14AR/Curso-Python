{
 "cells": [
  {
   "cell_type": "markdown",
   "metadata": {},
   "source": [
    "\t#Clase  1"
   ]
  },
  {
   "cell_type": "code",
   "execution_count": 8,
   "metadata": {},
   "outputs": [
    {
     "name": "stdout",
     "output_type": "stream",
     "text": [
      "Hola mundo\n"
     ]
    }
   ],
   "source": [
    "print (\"Hola mundo\")"
   ]
  },
  {
   "cell_type": "code",
   "execution_count": 11,
   "metadata": {},
   "outputs": [],
   "source": [
    "mi_edad = 18\n",
    "mi_correo = \"elikjr13@gmail.com\"\n",
    "mi_nombre = \"Elias Espinoza\"\n",
    "mi_altura = 1.80\n"
   ]
  },
  {
   "cell_type": "code",
   "execution_count": 12,
   "metadata": {},
   "outputs": [
    {
     "name": "stdout",
     "output_type": "stream",
     "text": [
      "Elias Espinoza\n",
      "elikjr13@gmail.com\n",
      "18\n",
      "1.8\n"
     ]
    }
   ],
   "source": [
    "print (mi_nombre)\n",
    "print (mi_correo)\n",
    "print (mi_edad)\n",
    "print (mi_altura)"
   ]
  },
  {
   "cell_type": "markdown",
   "metadata": {},
   "source": [
    "\t#Suma, resta , Multiplicacion y división"
   ]
  },
  {
   "cell_type": "code",
   "execution_count": 19,
   "metadata": {},
   "outputs": [],
   "source": [
    "V1 = 35\n",
    "V2 = 10"
   ]
  },
  {
   "cell_type": "code",
   "execution_count": 20,
   "metadata": {},
   "outputs": [],
   "source": [
    "suma = V1 + V2 \n",
    "rest = V1 - V2\n",
    "mult = V1 * V2\n",
    "div = V1 / V2"
   ]
  },
  {
   "cell_type": "code",
   "execution_count": 21,
   "metadata": {},
   "outputs": [
    {
     "name": "stdout",
     "output_type": "stream",
     "text": [
      "45\n",
      "25\n",
      "350\n",
      "3.5\n"
     ]
    }
   ],
   "source": [
    "print (suma)\n",
    "print (rest)\n",
    "print (mult)\n",
    "print (div)"
   ]
  },
  {
   "cell_type": "markdown",
   "metadata": {},
   "source": [
    "\t##Format"
   ]
  },
  {
   "cell_type": "code",
   "execution_count": 23,
   "metadata": {},
   "outputs": [
    {
     "name": "stdout",
     "output_type": "stream",
     "text": [
      "la suma de 35 y de 10 es igual a 45\n"
     ]
    }
   ],
   "source": [
    "print (f'la suma de {V1} y de {V2} es igual a {suma}')"
   ]
  },
  {
   "cell_type": "code",
   "execution_count": 27,
   "metadata": {},
   "outputs": [
    {
     "name": "stdout",
     "output_type": "stream",
     "text": [
      "10\n"
     ]
    },
    {
     "data": {
      "text/plain": [
       "30"
      ]
     },
     "execution_count": 27,
     "metadata": {},
     "output_type": "execute_result"
    }
   ],
   "source": [
    "valor_1 = int(input ('Dame un valor'))\n",
    "\n",
    "print (valor_1)\n",
    "\n",
    "valor_1 * 3"
   ]
  },
  {
   "cell_type": "code",
   "execution_count": 28,
   "metadata": {},
   "outputs": [
    {
     "name": "stdout",
     "output_type": "stream",
     "text": [
      "la suma de 2 y de 2 es igual a 4\n"
     ]
    }
   ],
   "source": [
    "val_1 = int(input ('Dame un valor'))\n",
    "val_2 = int(input ('Dame un valor'))\n",
    "\n",
    "sum = val_1 + val_2\n",
    "print (f'la suma de {val_1} mas {val_2} es igual a {sum}')\n"
   ]
  },
  {
   "cell_type": "markdown",
   "metadata": {},
   "source": [
    "##Condicionales"
   ]
  },
  {
   "cell_type": "code",
   "execution_count": 30,
   "metadata": {},
   "outputs": [
    {
     "data": {
      "text/plain": [
       "True"
      ]
     },
     "execution_count": 30,
     "metadata": {},
     "output_type": "execute_result"
    }
   ],
   "source": [
    "35 >= 42\n",
    "20 <= 15\n",
    "55 >= 54\n",
    "22 <= 22\n",
    "5 == 5"
   ]
  },
  {
   "cell_type": "code",
   "execution_count": 29,
   "metadata": {},
   "outputs": [
    {
     "name": "stdout",
     "output_type": "stream",
     "text": [
      "puedes pasar\n"
     ]
    }
   ],
   "source": [
    "if 1.60 > 1.20:\n",
    "    print (\"puedes pasar\")\n",
    "else :\n",
    "    print (\"no puedes pasar\")"
   ]
  },
  {
   "cell_type": "code",
   "execution_count": null,
   "metadata": {},
   "outputs": [],
   "source": []
  }
 ],
 "metadata": {
  "kernelspec": {
   "display_name": "Python 3.10.8 64-bit (microsoft store)",
   "language": "python",
   "name": "python3"
  },
  "language_info": {
   "codemirror_mode": {
    "name": "ipython",
    "version": 3
   },
   "file_extension": ".py",
   "mimetype": "text/x-python",
   "name": "python",
   "nbconvert_exporter": "python",
   "pygments_lexer": "ipython3",
   "version": "3.10.8"
  },
  "orig_nbformat": 4,
  "vscode": {
   "interpreter": {
    "hash": "82a7b4db8cba9541a78d3151c527c3258eb15f7739d4d8789d60593998f2759f"
   }
  }
 },
 "nbformat": 4,
 "nbformat_minor": 2
}
